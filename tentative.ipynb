{
 "cells": [
  {
   "cell_type": "code",
   "execution_count": 1,
   "metadata": {},
   "outputs": [],
   "source": [
    "import numpy as np"
   ]
  },
  {
   "cell_type": "code",
   "execution_count": 38,
   "metadata": {},
   "outputs": [],
   "source": [
    "state = np.zeros((8, 8), dtype=int)"
   ]
  },
  {
   "cell_type": "code",
   "execution_count": 150,
   "metadata": {},
   "outputs": [],
   "source": [
    "class Othero():\n",
    "    \n",
    "    def __init__(self, N=8):\n",
    "        self.set_board()\n",
    "        self.current_turn = 1\n",
    "        self.length_board = N\n",
    "\n",
    "    def set_board(self):\n",
    "        board = np.zeros((8, 8), dtype=int)\n",
    "        i = 3\n",
    "        j = 4\n",
    "        board[i,i] = board[j,j] = 1\n",
    "        board[j,i] = board[i,j] = -1\n",
    "        self.state = board\n",
    "\n",
    "    def display(self):\n",
    "        print(self.state)\n",
    "    \n",
    "    def _change_state(self, new_stone_loc:tuple):\n",
    "        \"\"\"change state for each direction\"\"\"\n",
    "        count_reverse = 0\n",
    "        i, j = new_stone_loc\n",
    "        opposite = -1* self.current_turn\n",
    "        state = np.copy(self.state)\n",
    "        # dx, dy を使う方針に転換する。 18:02\n",
    "        for direction in [\"row\", \"col\", \"diag\", \"anti-diag\"]:\n",
    "            for dir_ in [1, -1]:\n",
    "                count_reverse = 0\n",
    "                for d in range(self.length_board):\n",
    "                    print(d)\n",
    "                    try:\n",
    "                        dx, dy = self.set_direction(dir_*d,direction)\n",
    "                        # 縦横斜めどう制御する？\n",
    "                        if state[i + dx, j + dy] == opposite:\n",
    "                            count_reverse += 1\n",
    "                        elif state[i + dx, j + dy] == 0:\n",
    "                            count_reverse = 0\n",
    "                            break\n",
    "                        elif state[i + dx, j + dy] == self.current_turn:\n",
    "                            break\n",
    "                    except IndexError:\n",
    "                        break\n",
    "                if count_reverse > 0:\n",
    "                    print(\"we can reverse\", count_reverse, \"piece(s)!\")\n",
    "                    for d in range(1, count_reverse+1):\n",
    "                        dx, dy = self.set_direction(dir_*d, direction)\n",
    "                        state[i + dx, j + dy] = self.current_turn \n",
    "        self.current_turn = -1*self.current_turn\n",
    "        self.state = state\n",
    "    def set_direction(self, d, direction):\n",
    "        if direction == \"row\":\n",
    "            dx = d\n",
    "            dy = 0\n",
    "        elif direction == \"col\":\n",
    "            dx = 0\n",
    "            dy = d\n",
    "        elif direction == \"diag\":\n",
    "            dx = -1*d\n",
    "            dy = d     \n",
    "        elif direction == \"anti-diag\":\n",
    "            dx = d\n",
    "            dy = -1*d\n",
    "        return dx, dy \n"
   ]
  },
  {
   "cell_type": "code",
   "execution_count": 151,
   "metadata": {},
   "outputs": [
    {
     "data": {
      "text/plain": [
       "<__main__.Othero at 0x11966f6d0>"
      ]
     },
     "execution_count": 151,
     "metadata": {},
     "output_type": "execute_result"
    }
   ],
   "source": [
    "othero = Othero()\n",
    "othero"
   ]
  },
  {
   "cell_type": "code",
   "execution_count": 152,
   "metadata": {},
   "outputs": [
    {
     "name": "stdout",
     "output_type": "stream",
     "text": [
      "0\n",
      "0\n",
      "0\n",
      "0\n",
      "0\n",
      "0\n",
      "0\n",
      "0\n",
      "[[ 0  0  0  0  0  0  0  0]\n",
      " [ 0  0  0  0  0  0  0  0]\n",
      " [ 0  0  0  0  0  0  0  0]\n",
      " [ 0  0  0  1 -1  0  0  0]\n",
      " [ 0  0  0 -1  1  0  0  0]\n",
      " [ 0  0  0  0  0  0  0  0]\n",
      " [ 0  0  0  0  0  0  0  0]\n",
      " [ 0  0  0  0  0  0  0  0]]\n"
     ]
    }
   ],
   "source": [
    "othero._change_state((2,3))\n",
    "othero.display()"
   ]
  },
  {
   "cell_type": "code",
   "execution_count": 149,
   "metadata": {},
   "outputs": [],
   "source": [
    "# othero.display()"
   ]
  },
  {
   "cell_type": "code",
   "execution_count": 58,
   "metadata": {},
   "outputs": [],
   "source": [
    "i = 3\n",
    "j = 4\n",
    "state[i,i] = 1\n",
    "state[j,j] = 1\n",
    "state[i,j] = -1\n",
    "state[j,i] = -1"
   ]
  },
  {
   "cell_type": "code",
   "execution_count": 59,
   "metadata": {},
   "outputs": [
    {
     "data": {
      "text/plain": [
       "array([[ 0,  0, -1,  1, -1,  0,  0,  0],\n",
       "       [ 0,  0,  0, -1,  1,  0,  0,  0],\n",
       "       [ 0,  0,  0,  0,  0,  0,  0,  0],\n",
       "       [ 0,  0,  0,  0,  0,  0,  0,  0],\n",
       "       [ 0,  0,  0,  0,  0,  0,  0,  0]])"
      ]
     },
     "execution_count": 59,
     "metadata": {},
     "output_type": "execute_result"
    }
   ],
   "source": [
    "state[3,2] = -1\n",
    "state[3:]"
   ]
  },
  {
   "cell_type": "code",
   "execution_count": 104,
   "metadata": {},
   "outputs": [
    {
     "name": "stdout",
     "output_type": "stream",
     "text": [
      "-1\n"
     ]
    }
   ],
   "source": [
    "i = 3\n",
    "j = 2\n",
    "N = 8 # length of the bourd\n",
    "state[i,:]\n",
    "state[i,0:j]\n",
    "# left side\n",
    "if j != 0 and state[i,j-1] ==0:\n",
    "    # do nothing\n",
    "    pass\n",
    "\n",
    "# right side\n",
    "if j != 8 and state[i,j+1] ==0:\n",
    "    # do nothing\n",
    "    pass\n",
    "\n",
    "turn = -1\n",
    "count_reverse = 0\n",
    "opposite = -1* turn\n",
    "for j_ in range(j+1,N):\n",
    "    try\n",
    "    print(state[i, j_])\n",
    "    if state[i, j_] == opposite:\n",
    "        count_reverse += 1\n",
    "    elif state[i, j_] == 0:\n",
    "        count_reverse = 0\n",
    "        break\n",
    "    elif state[i, j_] == turn:\n",
    "        break\n",
    "if count_reverse > 0:\n",
    "    print(\"we can reverse\", count_reverse, \"piece(s)!\")\n",
    "    for c_r in range(1, count_reverse+1):\n",
    "        state[i, j + c_r] = turn\n",
    "# state"
   ]
  },
  {
   "cell_type": "code",
   "execution_count": null,
   "metadata": {},
   "outputs": [],
   "source": [
    "for d in range(N):\n",
    "    try:\n",
    "        dx, dy = self.set_direction(d)\n",
    "        # 縦横斜めどう制御する？\n",
    "        if state[i + dx, j + dy] == opposite:\n",
    "            count_reverse += 1\n",
    "        elif state[i + dx, j + dy] == 0:\n",
    "            count_reverse = 0\n",
    "            break\n",
    "        elif state[i + dx, j + dy] == turn:\n",
    "            break\n",
    "    except IndexError:\n",
    "        pass\n",
    "if count_reverse > 0:\n",
    "    print(\"we can reverse\", count_reverse, \"piece(s)!\")\n",
    "    for d in range(1, count_reverse+1):\n",
    "        dx, dy = self.set_direction(d)\n",
    "        state[i + dx, j + dy] = turn\n"
   ]
  },
  {
   "cell_type": "code",
   "execution_count": null,
   "metadata": {},
   "outputs": [],
   "source": []
  },
  {
   "cell_type": "code",
   "execution_count": null,
   "metadata": {},
   "outputs": [],
   "source": []
  },
  {
   "cell_type": "code",
   "execution_count": null,
   "metadata": {},
   "outputs": [],
   "source": []
  },
  {
   "cell_type": "code",
   "execution_count": null,
   "metadata": {},
   "outputs": [],
   "source": []
  },
  {
   "cell_type": "markdown",
   "metadata": {},
   "source": [
    "Scraps"
   ]
  },
  {
   "cell_type": "code",
   "execution_count": 86,
   "metadata": {},
   "outputs": [],
   "source": [
    "for c_r in range(1, count_reverse+1):\n",
    "    state[i, j + c_r] = turn"
   ]
  },
  {
   "cell_type": "code",
   "execution_count": 102,
   "metadata": {},
   "outputs": [
    {
     "data": {
      "text/plain": [
       "0"
      ]
     },
     "execution_count": 102,
     "metadata": {},
     "output_type": "execute_result"
    }
   ],
   "source": [
    "np.diag(np.rot90(state,axes=(0, 1)))\n",
    "np.diag(state, k=abs(i-j))[2]"
   ]
  },
  {
   "cell_type": "code",
   "execution_count": 96,
   "metadata": {},
   "outputs": [
    {
     "data": {
      "text/plain": [
       "array([[ 0,  0,  0,  0,  0,  0,  0,  0],\n",
       "       [ 0,  0,  0,  0,  0,  0,  0,  0],\n",
       "       [ 0,  0,  0,  0,  0,  0,  0,  0],\n",
       "       [ 0,  0,  0, -1,  1,  0,  0,  0],\n",
       "       [ 0,  0,  0, -1, -1,  0,  0,  0],\n",
       "       [ 0,  0,  0, -1,  0,  0,  0,  0],\n",
       "       [ 0,  0,  0,  0,  0,  0,  0,  0],\n",
       "       [ 0,  0,  0,  0,  0,  0,  0,  0]])"
      ]
     },
     "execution_count": 96,
     "metadata": {},
     "output_type": "execute_result"
    }
   ],
   "source": [
    "np.flip(state.T,axis=0)"
   ]
  },
  {
   "cell_type": "code",
   "execution_count": 156,
   "metadata": {},
   "outputs": [],
   "source": [
    "\n",
    "a = np.eye(10)"
   ]
  },
  {
   "cell_type": "code",
   "execution_count": 173,
   "metadata": {},
   "outputs": [
    {
     "name": "stdout",
     "output_type": "stream",
     "text": [
      "      0_1_2_3_4_5_6_7_8_9\n",
      "0 | [1. 0. 0. 0. 0. 0. 0. 0. 0. 0.]\n",
      "1 | [0. 1. 0. 0. 0. 0. 0. 0. 0. 0.]\n",
      "2 | [0. 0. 1. 0. 0. 0. 0. 0. 0. 0.]\n",
      "3 | [0. 0. 0. 1. 0. 0. 0. 0. 0. 0.]\n",
      "4 | [0. 0. 0. 0. 1. 0. 0. 0. 0. 0.]\n",
      "5 | [0. 0. 0. 0. 0. 1. 0. 0. 0. 0.]\n",
      "6 | [0. 0. 0. 0. 0. 0. 1. 0. 0. 0.]\n",
      "7 | [0. 0. 0. 0. 0. 0. 0. 1. 0. 0.]\n",
      "8 | [0. 0. 0. 0. 0. 0. 0. 0. 1. 0.]\n",
      "9 | [0. 0. 0. 0. 0. 0. 0. 0. 0. 1.]\n"
     ]
    }
   ],
   "source": [
    "print(\" \"*6+\"_\".join(list(map(str, range(10)))))\n",
    "for i, r_ in enumerate(a):\n",
    "    print(str(i)+\" | \"+str(r_))"
   ]
  },
  {
   "cell_type": "code",
   "execution_count": 168,
   "metadata": {},
   "outputs": [
    {
     "data": {
      "text/plain": [
       "'0_1_2_3_4_5_6_7_8_9'"
      ]
     },
     "execution_count": 168,
     "metadata": {},
     "output_type": "execute_result"
    }
   ],
   "source": [
    "\"_\".join(list(map(str, range(10))))"
   ]
  },
  {
   "cell_type": "code",
   "execution_count": null,
   "metadata": {},
   "outputs": [],
   "source": []
  }
 ],
 "metadata": {
  "kernelspec": {
   "display_name": "Python 3",
   "language": "python",
   "name": "python3"
  },
  "language_info": {
   "codemirror_mode": {
    "name": "ipython",
    "version": 3
   },
   "file_extension": ".py",
   "mimetype": "text/x-python",
   "name": "python",
   "nbconvert_exporter": "python",
   "pygments_lexer": "ipython3",
   "version": "3.7.4"
  }
 },
 "nbformat": 4,
 "nbformat_minor": 2
}
